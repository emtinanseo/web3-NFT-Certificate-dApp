{
 "cells": [
  {
   "cell_type": "code",
   "execution_count": 21,
   "metadata": {},
   "outputs": [],
   "source": [
    "import json"
   ]
  },
  {
   "cell_type": "code",
   "execution_count": 3,
   "metadata": {},
   "outputs": [],
   "source": [
    "import base64\n",
    "from algosdk.v2client import algod\n",
    "from algosdk import account, mnemonic\n",
    "from algosdk.future.transaction import AssetConfigTxn, AssetTransferTxn, AssetFreezeTxn\n",
    "from algosdk.future.transaction import *"
   ]
  },
  {
   "cell_type": "code",
   "execution_count": 7,
   "metadata": {},
   "outputs": [],
   "source": [
    "from dotenv import load_dotenv"
   ]
  },
  {
   "cell_type": "code",
   "execution_count": 8,
   "metadata": {},
   "outputs": [],
   "source": [
    "import sys, os\n",
    "\n",
    "sys.path.append(os.path.abspath(os.path.join(\"../..\")))\n",
    "sys.path.append(os.path.abspath(os.path.join(\"../scripts\")))"
   ]
  },
  {
   "cell_type": "code",
   "execution_count": 23,
   "metadata": {},
   "outputs": [],
   "source": [
    "import functions_ASA as util"
   ]
  },
  {
   "cell_type": "markdown",
   "metadata": {},
   "source": [
    "# Accounts"
   ]
  },
  {
   "cell_type": "code",
   "execution_count": 10,
   "metadata": {},
   "outputs": [],
   "source": [
    "load_dotenv()\n",
    "mnemonic1 = os.getenv('PreconfigPassphrase1')\n",
    "mnemonic2 = os.getenv('PreconfigPassphrase2')\n",
    "mnemonic3 = os.getenv('PreconfigPassphrase3')"
   ]
  },
  {
   "cell_type": "code",
   "execution_count": 11,
   "metadata": {},
   "outputs": [],
   "source": [
    "# For ease of reference, add account public and private keys to\n",
    "# an accounts dict.\n",
    "accounts = {}\n",
    "counter = 1\n",
    "for m in [mnemonic1, mnemonic2, mnemonic3]:\n",
    "    accounts[counter] = {}\n",
    "    accounts[counter]['pk'] = mnemonic.to_public_key(m)\n",
    "    accounts[counter]['sk'] = mnemonic.to_private_key(m)\n",
    "    counter += 1"
   ]
  },
  {
   "cell_type": "markdown",
   "metadata": {},
   "source": [
    "# Connect to Client"
   ]
  },
  {
   "cell_type": "code",
   "execution_count": 12,
   "metadata": {},
   "outputs": [],
   "source": [
    "# Specify the node address and token.\n",
    "\n",
    "algod_address = \"http://localhost:4001\"\n",
    "algod_token = \"aaaaaaaaaaaaaaaaaaaaaaaaaaaaaaaaaaaaaaaaaaaaaaaaaaaaaaaaaaaaaaaa\"\n",
    "\n",
    "# Initialize an algod client\n",
    "algod_client = algod.AlgodClient(algod_token=algod_token, algod_address=algod_address)"
   ]
  },
  {
   "cell_type": "code",
   "execution_count": 13,
   "metadata": {},
   "outputs": [
    {
     "name": "stdout",
     "output_type": "stream",
     "text": [
      "Account 1 address: BOBMBO72PB2AM4RBSHB7B3ZZML2AW4SDIUFKJ3YLCPSDKNO3FOCRMN7H2A\n",
      "Account 2 address: WI6KG2FRR6FY7RSZH4AO4WDBY57R5IA74RX22EDQA4C6AOGVXAUAPUYWRU\n",
      "Account 3 address: 2JZRZNDWUIEHMH3G7JMGI6JHD64FSC4FQ53AVBVSQABWBRLMTQMJQ6KF2U\n"
     ]
    }
   ],
   "source": [
    "print(\"Account 1 address: {}\".format(accounts[1]['pk']))\n",
    "print(\"Account 2 address: {}\".format(accounts[2]['pk']))\n",
    "print(\"Account 3 address: {}\".format(accounts[3]['pk']))"
   ]
  },
  {
   "cell_type": "markdown",
   "metadata": {},
   "source": [
    "# Create Asset (Minting)"
   ]
  },
  {
   "cell_type": "markdown",
   "metadata": {},
   "source": [
    "* Account 1 creates an asset called latinum and\n",
    "* sets Account 2 as the manager, reserve, freeze, and clawback address."
   ]
  },
  {
   "cell_type": "code",
   "execution_count": 14,
   "metadata": {},
   "outputs": [],
   "source": [
    "# Get network params for transactions before every transaction.\n",
    "params = algod_client.suggested_params()\n",
    "\n",
    "# Account 1 creates an asset called latinum and\n",
    "# sets Account 2 as the manager, reserve, freeze, and clawback address.\n",
    "# Asset Creation transaction\n",
    "\n",
    "txn = AssetConfigTxn(\n",
    "    sender=accounts[1]['pk'],\n",
    "    sp=params,\n",
    "    total=1000,\n",
    "    default_frozen=False,\n",
    "    unit_name=\"LATINUM\",\n",
    "    asset_name=\"latinum\",\n",
    "    manager=accounts[2]['pk'],\n",
    "    reserve=accounts[2]['pk'],\n",
    "    freeze=accounts[2]['pk'],\n",
    "    clawback=accounts[2]['pk'],\n",
    "    url=\"https://path/to/my/asset/details\", \n",
    "    decimals=0)\n",
    "    \n",
    "# Sign with secret key of creator\n",
    "stxn = txn.sign(accounts[1]['sk'])\n"
   ]
  },
  {
   "cell_type": "code",
   "execution_count": 15,
   "metadata": {},
   "outputs": [
    {
     "name": "stdout",
     "output_type": "stream",
     "text": [
      "Signed transaction with txID: H2J5SYNOQSX3DTCRK4XV3FU2VXTAS6DPU74A2MCGWJOMLBJJA5TA\n",
      "TXID:  H2J5SYNOQSX3DTCRK4XV3FU2VXTAS6DPU74A2MCGWJOMLBJJA5TA\n",
      "Result confirmed in round: 2\n"
     ]
    }
   ],
   "source": [
    "# Send the transaction to the network and retrieve the txid.\n",
    "try:\n",
    "    txid = algod_client.send_transaction(stxn)\n",
    "    print(\"Signed transaction with txID: {}\".format(txid))\n",
    "    # Wait for the transaction to be confirmed\n",
    "    confirmed_txn = wait_for_confirmation(algod_client, txid, 4)  \n",
    "    print(\"TXID: \", txid)\n",
    "    print(\"Result confirmed in round: {}\".format(confirmed_txn['confirmed-round']))\n",
    "   \n",
    "except Exception as err:\n",
    "    print(err)\n",
    "# Retrieve the asset ID of the newly created asset by first\n",
    "# ensuring that the creation transaction was confirmed,\n",
    "# then grabbing the asset id from the transaction."
   ]
  },
  {
   "cell_type": "code",
   "execution_count": 16,
   "metadata": {},
   "outputs": [
    {
     "name": "stdout",
     "output_type": "stream",
     "text": [
      "Transaction information: {\n",
      "    \"asset-index\": 2,\n",
      "    \"confirmed-round\": 2,\n",
      "    \"pool-error\": \"\",\n",
      "    \"txn\": {\n",
      "        \"sig\": \"r6EW0+6i0kAV8Vf5iPJg8lndHIpCEawiZd4BYe355n483BYYAhEBjC1QlQGmcjS4Yg4MxNB3ZJQ7zhYZj1C/BQ==\",\n",
      "        \"txn\": {\n",
      "            \"apar\": {\n",
      "                \"an\": \"latinum\",\n",
      "                \"au\": \"https://path/to/my/asset/details\",\n",
      "                \"c\": \"WI6KG2FRR6FY7RSZH4AO4WDBY57R5IA74RX22EDQA4C6AOGVXAUAPUYWRU\",\n",
      "                \"f\": \"WI6KG2FRR6FY7RSZH4AO4WDBY57R5IA74RX22EDQA4C6AOGVXAUAPUYWRU\",\n",
      "                \"m\": \"WI6KG2FRR6FY7RSZH4AO4WDBY57R5IA74RX22EDQA4C6AOGVXAUAPUYWRU\",\n",
      "                \"r\": \"WI6KG2FRR6FY7RSZH4AO4WDBY57R5IA74RX22EDQA4C6AOGVXAUAPUYWRU\",\n",
      "                \"t\": 1000,\n",
      "                \"un\": \"LATINUM\"\n",
      "            },\n",
      "            \"fee\": 1000,\n",
      "            \"fv\": 1,\n",
      "            \"gen\": \"sandnet-v1\",\n",
      "            \"gh\": \"1Av0Ow3cvZTlmk8Nl+rYpdaYl8sFmSD4gie6oNNsKOA=\",\n",
      "            \"lv\": 1001,\n",
      "            \"snd\": \"BOBMBO72PB2AM4RBSHB7B3ZZML2AW4SDIUFKJ3YLCPSDKNO3FOCRMN7H2A\",\n",
      "            \"type\": \"acfg\"\n",
      "        }\n",
      "    }\n",
      "}\n"
     ]
    }
   ],
   "source": [
    "print(\"Transaction information: {}\".format(\n",
    "    json.dumps(confirmed_txn, indent=4)))"
   ]
  },
  {
   "cell_type": "code",
   "execution_count": 17,
   "metadata": {},
   "outputs": [
    {
     "name": "stdout",
     "output_type": "stream",
     "text": [
      "Asset ID: 2\n",
      "name 'json' is not defined\n"
     ]
    }
   ],
   "source": [
    "try:\n",
    "    # Pull account info for the creator\n",
    "    # account_info = algod_client.account_info(accounts[1]['pk'])\n",
    "    # get asset_id from tx\n",
    "    # Get the new asset's information from the creator account\n",
    "    ptx = algod_client.pending_transaction_info(txid)\n",
    "    asset_id = ptx[\"asset-index\"]\n",
    "    util.print_created_asset(algod_client, accounts[1]['pk'], asset_id)\n",
    "    util.print_asset_holding(algod_client, accounts[1]['pk'], asset_id)\n",
    "except Exception as e:\n",
    "    print(e)"
   ]
  },
  {
   "cell_type": "markdown",
   "metadata": {},
   "source": [
    "# Change the Manager"
   ]
  },
  {
   "cell_type": "markdown",
   "metadata": {},
   "source": [
    "The current manager(Account 2) issues an asset configuration transaction that assigns Account 1 as the new manager."
   ]
  },
  {
   "cell_type": "code",
   "execution_count": 18,
   "metadata": {},
   "outputs": [],
   "source": [
    "# Keep reserve, freeze, and clawback address same as before, i.e. account 2\n",
    "params = algod_client.suggested_params()\n",
    "# comment these two lines if you want to use suggested params\n",
    "# params.fee = 1000\n",
    "# params.flat_fee = True\n",
    "\n",
    "# asset_id = 328952;\n",
    "\n",
    "txn = AssetConfigTxn(\n",
    "    sender=accounts[2]['pk'],\n",
    "    sp=params,\n",
    "    index=asset_id, \n",
    "    manager=accounts[1]['pk'],\n",
    "    reserve=accounts[2]['pk'],\n",
    "    freeze=accounts[2]['pk'],\n",
    "    clawback=accounts[2]['pk'])\n",
    "# sign by the current manager - Account 2\n",
    "stxn = txn.sign(accounts[2]['sk'])\n",
    "# txid = algod_client.send_transaction(stxn)\n",
    "# print(txid)"
   ]
  },
  {
   "cell_type": "code",
   "execution_count": 19,
   "metadata": {},
   "outputs": [
    {
     "name": "stdout",
     "output_type": "stream",
     "text": [
      "Signed transaction with txID: AWHTAPFRJAUORJW4UFFUC2GZ7ADING4CCIJEZXSS6DPKD5YE5X6Q\n",
      "TXID:  AWHTAPFRJAUORJW4UFFUC2GZ7ADING4CCIJEZXSS6DPKD5YE5X6Q\n",
      "Result confirmed in round: 3\n"
     ]
    }
   ],
   "source": [
    "# Wait for the transaction to be confirmed\n",
    "# Send the transaction to the network and retrieve the txid.\n",
    "try:\n",
    "    txid = algod_client.send_transaction(stxn)\n",
    "    print(\"Signed transaction with txID: {}\".format(txid))\n",
    "    # Wait for the transaction to be confirmed\n",
    "    confirmed_txn = wait_for_confirmation(algod_client, txid, 4) \n",
    "    print(\"TXID: \", txid)\n",
    "    print(\"Result confirmed in round: {}\".format(confirmed_txn['confirmed-round']))\n",
    " \n",
    "except Exception as err:\n",
    "    print(err)"
   ]
  },
  {
   "cell_type": "code",
   "execution_count": 24,
   "metadata": {},
   "outputs": [
    {
     "name": "stdout",
     "output_type": "stream",
     "text": [
      "Asset ID: 2\n",
      "{\n",
      "    \"clawback\": \"WI6KG2FRR6FY7RSZH4AO4WDBY57R5IA74RX22EDQA4C6AOGVXAUAPUYWRU\",\n",
      "    \"creator\": \"BOBMBO72PB2AM4RBSHB7B3ZZML2AW4SDIUFKJ3YLCPSDKNO3FOCRMN7H2A\",\n",
      "    \"decimals\": 0,\n",
      "    \"default-frozen\": false,\n",
      "    \"freeze\": \"WI6KG2FRR6FY7RSZH4AO4WDBY57R5IA74RX22EDQA4C6AOGVXAUAPUYWRU\",\n",
      "    \"manager\": \"BOBMBO72PB2AM4RBSHB7B3ZZML2AW4SDIUFKJ3YLCPSDKNO3FOCRMN7H2A\",\n",
      "    \"name\": \"latinum\",\n",
      "    \"name-b64\": \"bGF0aW51bQ==\",\n",
      "    \"reserve\": \"WI6KG2FRR6FY7RSZH4AO4WDBY57R5IA74RX22EDQA4C6AOGVXAUAPUYWRU\",\n",
      "    \"total\": 1000,\n",
      "    \"unit-name\": \"LATINUM\",\n",
      "    \"unit-name-b64\": \"TEFUSU5VTQ==\",\n",
      "    \"url\": \"https://path/to/my/asset/details\",\n",
      "    \"url-b64\": \"aHR0cHM6Ly9wYXRoL3RvL215L2Fzc2V0L2RldGFpbHM=\"\n",
      "}\n"
     ]
    }
   ],
   "source": [
    "# Check asset info to view change in management. manager should now be account 1\n",
    "util.print_created_asset(algod_client, accounts[1]['pk'], asset_id)"
   ]
  },
  {
   "cell_type": "markdown",
   "metadata": {},
   "source": [
    "# Opt-in"
   ]
  },
  {
   "cell_type": "code",
   "execution_count": 25,
   "metadata": {},
   "outputs": [
    {
     "name": "stdout",
     "output_type": "stream",
     "text": [
      "Signed transaction with txID: SOADSPOJMONXN44ZEK76JZ6UZSVFJNGLSZWROEHJOCKSYLVDLGJQ\n",
      "TXID:  SOADSPOJMONXN44ZEK76JZ6UZSVFJNGLSZWROEHJOCKSYLVDLGJQ\n",
      "Result confirmed in round: 4\n",
      "Asset ID: 2\n",
      "{\n",
      "    \"amount\": 0,\n",
      "    \"asset-id\": 2,\n",
      "    \"is-frozen\": false\n",
      "}\n"
     ]
    }
   ],
   "source": [
    "# OPT-IN\n",
    "\n",
    "# Check if asset_id is in account 3's asset holdings prior\n",
    "# to opt-in\n",
    "params = algod_client.suggested_params()\n",
    "# comment these two lines if you want to use suggested params\n",
    "# params.fee = 1000\n",
    "# params.flat_fee = True\n",
    "\n",
    "account_info = algod_client.account_info(accounts[3]['pk'])\n",
    "holding = None\n",
    "idx = 0\n",
    "for my_account_info in account_info['assets']:\n",
    "    scrutinized_asset = account_info['assets'][idx]\n",
    "    idx = idx + 1    \n",
    "    if (scrutinized_asset['asset-id'] == asset_id):\n",
    "        holding = True\n",
    "        break\n",
    "\n",
    "if not holding:\n",
    "\n",
    "    # Use the AssetTransferTxn class to transfer assets and opt-in\n",
    "    txn = AssetTransferTxn(\n",
    "        sender=accounts[3]['pk'],\n",
    "        sp=params,\n",
    "        receiver=accounts[3][\"pk\"],\n",
    "        amt=0,\n",
    "        index=asset_id)\n",
    "    stxn = txn.sign(accounts[3]['sk'])\n",
    "    # Send the transaction to the network and retrieve the txid.\n",
    "    try:\n",
    "        txid = algod_client.send_transaction(stxn)\n",
    "        print(\"Signed transaction with txID: {}\".format(txid))\n",
    "        # Wait for the transaction to be confirmed\n",
    "        confirmed_txn = wait_for_confirmation(algod_client, txid, 4) \n",
    "        print(\"TXID: \", txid)\n",
    "        print(\"Result confirmed in round: {}\".format(confirmed_txn['confirmed-round']))\n",
    " \n",
    "    except Exception as err:\n",
    "        print(err)\n",
    "    # Now check the asset holding for that account.\n",
    "    # This should now show a holding with a balance of 0.\n",
    "    util.print_asset_holding(algod_client, accounts[3]['pk'], asset_id)\n"
   ]
  },
  {
   "cell_type": "markdown",
   "metadata": {},
   "source": [
    "# Asset Transfer"
   ]
  },
  {
   "cell_type": "code",
   "execution_count": 26,
   "metadata": {},
   "outputs": [
    {
     "name": "stdout",
     "output_type": "stream",
     "text": [
      "Signed transaction with txID: 54YQ3DSNDMUJF66RFNPLVL4BGFYT4LCNVBX43P27GCRBQTQOBOXA\n",
      "TXID:  54YQ3DSNDMUJF66RFNPLVL4BGFYT4LCNVBX43P27GCRBQTQOBOXA\n",
      "Result confirmed in round: 5\n",
      "Asset ID: 2\n",
      "{\n",
      "    \"amount\": 10,\n",
      "    \"asset-id\": 2,\n",
      "    \"is-frozen\": false\n",
      "}\n"
     ]
    }
   ],
   "source": [
    "# transfer asset of 10 from account 1 to account 3\n",
    "params = algod_client.suggested_params()\n",
    "# comment these two lines if you want to use suggested params\n",
    "# params.fee = 1000\n",
    "# params.flat_fee = True\n",
    "txn = AssetTransferTxn(\n",
    "    sender=accounts[1]['pk'],\n",
    "    sp=params,\n",
    "    receiver=accounts[3][\"pk\"],\n",
    "    amt=10,\n",
    "    index=asset_id)\n",
    "stxn = txn.sign(accounts[1]['sk'])\n",
    "# Send the transaction to the network and retrieve the txid.\n",
    "try:\n",
    "    txid = algod_client.send_transaction(stxn)\n",
    "    print(\"Signed transaction with txID: {}\".format(txid))\n",
    "    # Wait for the transaction to be confirmed\n",
    "    confirmed_txn = wait_for_confirmation(algod_client, txid, 4) \n",
    "    print(\"TXID: \", txid)\n",
    "    print(\"Result confirmed in round: {}\".format(confirmed_txn['confirmed-round']))\n",
    "\n",
    "except Exception as err:\n",
    "    print(err)\n",
    "# The balance should now be 10.\n",
    "util.print_asset_holding(algod_client, accounts[3]['pk'], asset_id)\n"
   ]
  },
  {
   "cell_type": "markdown",
   "metadata": {},
   "source": [
    "# Asset Freeze"
   ]
  },
  {
   "cell_type": "code",
   "execution_count": 27,
   "metadata": {},
   "outputs": [
    {
     "name": "stdout",
     "output_type": "stream",
     "text": [
      "Signed transaction with txID: FSSQPFYM5WEHAH2ESRL66WAQOXIIGO3UEBMYNMLVDWFEZQWBKKSQ\n",
      "TXID:  FSSQPFYM5WEHAH2ESRL66WAQOXIIGO3UEBMYNMLVDWFEZQWBKKSQ\n",
      "Result confirmed in round: 6\n",
      "Asset ID: 2\n",
      "{\n",
      "    \"amount\": 10,\n",
      "    \"asset-id\": 2,\n",
      "    \"is-frozen\": true\n",
      "}\n"
     ]
    }
   ],
   "source": [
    "params = algod_client.suggested_params()\n",
    "\n",
    "# The freeze address (Account 2) freezes Account 3's latinum holdings.\n",
    "\n",
    "txn = AssetFreezeTxn(\n",
    "    sender=accounts[2]['pk'],\n",
    "    sp=params,\n",
    "    index=asset_id,\n",
    "    target=accounts[3][\"pk\"],\n",
    "    new_freeze_state=True   \n",
    "    )\n",
    "stxn = txn.sign(accounts[2]['sk'])\n",
    "# Send the transaction to the network and retrieve the txid.\n",
    "try:\n",
    "    txid = algod_client.send_transaction(stxn)\n",
    "    print(\"Signed transaction with txID: {}\".format(txid))\n",
    "    # Wait for the transaction to be confirmed\n",
    "    confirmed_txn = wait_for_confirmation(algod_client, txid, 4)  \n",
    "    print(\"TXID: \", txid)\n",
    "    print(\"Result confirmed in round: {}\".format(confirmed_txn['confirmed-round']))    \n",
    "except Exception as err:\n",
    "    print(err)\n",
    "# The balance should now be 10 with frozen set to true.\n",
    "util.print_asset_holding(algod_client, accounts[3]['pk'], asset_id)"
   ]
  },
  {
   "cell_type": "markdown",
   "metadata": {},
   "source": [
    "# Revoke Asset"
   ]
  },
  {
   "cell_type": "code",
   "execution_count": 28,
   "metadata": {},
   "outputs": [
    {
     "name": "stdout",
     "output_type": "stream",
     "text": [
      "Signed transaction with txID: XVPQNMS3SESH36WZ42YRGBJ6WOERRLLG2KHC3NNVFANWSWCZLNOQ\n",
      "TXID:  XVPQNMS3SESH36WZ42YRGBJ6WOERRLLG2KHC3NNVFANWSWCZLNOQ\n",
      "Result confirmed in round: 7\n",
      "Account 3\n",
      "Asset ID: 2\n",
      "{\n",
      "    \"amount\": 0,\n",
      "    \"asset-id\": 2,\n",
      "    \"is-frozen\": true\n",
      "}\n",
      "Account 1\n",
      "Asset ID: 2\n",
      "{\n",
      "    \"amount\": 1000,\n",
      "    \"asset-id\": 2,\n",
      "    \"is-frozen\": false\n",
      "}\n"
     ]
    }
   ],
   "source": [
    "# The clawback address (Account 2) revokes 10 latinum from Account 3 and places it back with Account 1.\n",
    "params = algod_client.suggested_params()\n",
    "# comment these two lines if you want to use suggested params\n",
    "# params.fee = 1000\n",
    "# params.flat_fee = True\n",
    "\n",
    "# Must be signed by the account that is the Asset's clawback address\n",
    "txn = AssetTransferTxn(\n",
    "    sender=accounts[2]['pk'],\n",
    "    sp=params,\n",
    "    receiver=accounts[1][\"pk\"],\n",
    "    amt=10,\n",
    "    index=asset_id,\n",
    "    revocation_target=accounts[3]['pk']\n",
    "    )\n",
    "stxn = txn.sign(accounts[2]['sk'])\n",
    "# Send the transaction to the network and retrieve the txid.\n",
    "try:\n",
    "    txid = algod_client.send_transaction(stxn)\n",
    "    print(\"Signed transaction with txID: {}\".format(txid))\n",
    "    # Wait for the transaction to be confirmed\n",
    "    confirmed_txn = wait_for_confirmation(algod_client, txid, 4)\n",
    "    print(\"TXID: \", txid)\n",
    "    print(\"Result confirmed in round: {}\".format(confirmed_txn['confirmed-round']))      \n",
    "except Exception as err:\n",
    "    print(err)\n",
    "# The balance of account 3 should now be 0.\n",
    "# account_info = algod_client.account_info(accounts[3]['pk'])\n",
    "print(\"Account 3\")\n",
    "util.print_asset_holding(algod_client, accounts[3]['pk'], asset_id)\n",
    "\n",
    "# The balance of account 1 should increase by 10 to 1000.\n",
    "print(\"Account 1\")\n",
    "util.print_asset_holding(algod_client, accounts[1]['pk'], asset_id)"
   ]
  },
  {
   "cell_type": "markdown",
   "metadata": {},
   "source": [
    "# Destroy Asset"
   ]
  },
  {
   "cell_type": "code",
   "execution_count": 29,
   "metadata": {},
   "outputs": [
    {
     "name": "stdout",
     "output_type": "stream",
     "text": [
      "Signed transaction with txID: BWWZE7VL2JPIIU4UJJRJLWGOEXROXDPQJ6NIPGXNZ7CZU3VCBWXA\n",
      "TXID:  BWWZE7VL2JPIIU4UJJRJLWGOEXROXDPQJ6NIPGXNZ7CZU3VCBWXA\n",
      "Result confirmed in round: 8\n",
      "Account 3 must do a transaction for an amount of 0, \n",
      "with a close_assets_to to the creator account, to clear it from its accountholdings\n",
      "For Account 1, nothing should print after this as the asset is destroyed on the creator account\n"
     ]
    }
   ],
   "source": [
    "# With all assets back in the creator's account,\n",
    "# the manager (Account 1) destroys the asset.\n",
    "params = algod_client.suggested_params()\n",
    "# comment these two lines if you want to use suggested params\n",
    "# params.fee = 1000\n",
    "# params.flat_fee = True\n",
    "\n",
    "# Asset destroy transaction\n",
    "txn = AssetConfigTxn(\n",
    "    sender=accounts[1]['pk'],\n",
    "    sp=params,\n",
    "    index=asset_id,\n",
    "    strict_empty_address_check=False\n",
    "    )\n",
    "\n",
    "# Sign with secret key of creator\n",
    "stxn = txn.sign(accounts[1]['sk'])\n",
    "# Send the transaction to the network and retrieve the txid.\n",
    "# Send the transaction to the network and retrieve the txid.\n",
    "try:\n",
    "    txid = algod_client.send_transaction(stxn)\n",
    "    print(\"Signed transaction with txID: {}\".format(txid))\n",
    "    # Wait for the transaction to be confirmed\n",
    "    confirmed_txn = wait_for_confirmation(algod_client, txid, 4) \n",
    "    print(\"TXID: \", txid)\n",
    "    print(\"Result confirmed in round: {}\".format(confirmed_txn['confirmed-round']))     \n",
    "except Exception as err:\n",
    "    print(err)\n",
    "\n",
    "# Asset was deleted.\n",
    "try:\n",
    "    print(\"Account 3 must do a transaction for an amount of 0, \" )\n",
    "    print(\"with a close_assets_to to the creator account, to clear it from its accountholdings\")\n",
    "    print(\"For Account 1, nothing should print after this as the asset is destroyed on the creator account\")\n",
    "   \n",
    "    util.print_asset_holding(algod_client, accounts[1]['pk'], asset_id)\n",
    "    util.print_created_asset(algod_client, accounts[1]['pk'], asset_id)\n",
    "    # asset_info = algod_client.asset_info(asset_id)\n",
    "except Exception as e:\n",
    "    print(e)"
   ]
  }
 ],
 "metadata": {
  "kernelspec": {
   "display_name": "Python 3.10.6 ('env': venv)",
   "language": "python",
   "name": "python3"
  },
  "language_info": {
   "codemirror_mode": {
    "name": "ipython",
    "version": 3
   },
   "file_extension": ".py",
   "mimetype": "text/x-python",
   "name": "python",
   "nbconvert_exporter": "python",
   "pygments_lexer": "ipython3",
   "version": "3.10.6"
  },
  "orig_nbformat": 4,
  "vscode": {
   "interpreter": {
    "hash": "6b82b825d5d4833af3b1c89f0eb6563ff3c71e7496afb1979116998712d4e4f0"
   }
  }
 },
 "nbformat": 4,
 "nbformat_minor": 2
}
