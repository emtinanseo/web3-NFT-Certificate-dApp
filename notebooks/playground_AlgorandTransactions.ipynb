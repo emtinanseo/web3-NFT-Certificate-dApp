{
 "cells": [
  {
   "cell_type": "code",
   "execution_count": 1,
   "metadata": {},
   "outputs": [],
   "source": [
    "from algosdk import account, mnemonic\n",
    "import os\n",
    "from dotenv import load_dotenv"
   ]
  },
  {
   "cell_type": "markdown",
   "metadata": {},
   "source": [
    "# Generate a new account"
   ]
  },
  {
   "cell_type": "markdown",
   "metadata": {},
   "source": [
    "### Create an Algorand Test account"
   ]
  },
  {
   "cell_type": "code",
   "execution_count": 2,
   "metadata": {},
   "outputs": [
    {
     "name": "stdout",
     "output_type": "stream",
     "text": [
      "Public address: IYLYMM5RBUDELBRQVGLMFN57MPUMROFUBOEZ5R3N6FQYS2EUUFDW6EO3LU\n"
     ]
    }
   ],
   "source": [
    "# This function generates an algorand test account, returns a private and public key\n",
    "\n",
    "testPrivateKey, testPublicKey = account.generate_account()\n",
    "\n",
    "print(\"Public address: {}\".format(testPublicKey))"
   ]
  },
  {
   "cell_type": "markdown",
   "metadata": {},
   "source": [
    "### More Test Accounts"
   ]
  },
  {
   "cell_type": "markdown",
   "metadata": {},
   "source": [
    "Connection to Algorand `dev` network comes with preconfigured accounts. We load them here."
   ]
  },
  {
   "cell_type": "code",
   "execution_count": 3,
   "metadata": {},
   "outputs": [],
   "source": [
    "#load_dotenv(encoding='utf-16')\n",
    "load_dotenv()\n",
    "preconPubKey01 = os.getenv('PreconfigPublicKey1')\n",
    "preconPass01 = os.getenv('PreconfigPassphrase1')\n",
    "preconPubKey02 = os.getenv('PreconfigPublicKey2')\n",
    "preconPass02 = os.getenv('PreconfigPassphrase2')\n",
    "preconPubKey03 = os.getenv('PreconfigPublicKey3')\n",
    "preconPass03 = os.getenv('PreconfigPassphrase3')"
   ]
  },
  {
   "cell_type": "code",
   "execution_count": 4,
   "metadata": {},
   "outputs": [
    {
     "name": "stdout",
     "output_type": "stream",
     "text": [
      "Public address: 4RBLSNWN3IRLJVDAL4GZUAYXKXF3RBMI2ZPNEBXNOP6FM5Y4X2FZFNXFG4\n"
     ]
    }
   ],
   "source": [
    "print(\"Public address: {}\".format(preconPubKey01))"
   ]
  },
  {
   "cell_type": "code",
   "execution_count": 5,
   "metadata": {},
   "outputs": [],
   "source": [
    "# We use the passphrase to get the corresponding private key\n",
    "preconPrivKey01 = mnemonic.to_private_key(preconPass01)\n",
    "preconPrivKey02 = mnemonic.to_private_key(preconPass02)\n",
    "preconPrivKey03 = mnemonic.to_private_key(preconPass03)"
   ]
  }
 ],
 "metadata": {
  "kernelspec": {
   "display_name": "Python 3.10.6 ('env': venv)",
   "language": "python",
   "name": "python3"
  },
  "language_info": {
   "codemirror_mode": {
    "name": "ipython",
    "version": 3
   },
   "file_extension": ".py",
   "mimetype": "text/x-python",
   "name": "python",
   "nbconvert_exporter": "python",
   "pygments_lexer": "ipython3",
   "version": "3.10.6"
  },
  "orig_nbformat": 4,
  "vscode": {
   "interpreter": {
    "hash": "6b82b825d5d4833af3b1c89f0eb6563ff3c71e7496afb1979116998712d4e4f0"
   }
  }
 },
 "nbformat": 4,
 "nbformat_minor": 2
}
