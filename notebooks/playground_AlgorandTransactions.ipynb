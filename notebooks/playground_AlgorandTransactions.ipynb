{
 "cells": [
  {
   "cell_type": "code",
   "execution_count": 1,
   "metadata": {},
   "outputs": [],
   "source": [
    "from algosdk import account, mnemonic\n",
    "import os\n",
    "from dotenv import load_dotenv"
   ]
  },
  {
   "cell_type": "code",
   "execution_count": 2,
   "metadata": {},
   "outputs": [],
   "source": [
    "from algosdk.v2client import algod\n",
    "# build transaction\n",
    "from algosdk.future import transaction\n",
    "from algosdk import constants\n",
    "import json\n",
    "import base64"
   ]
  },
  {
   "cell_type": "markdown",
   "metadata": {},
   "source": [
    "## Generate a new account"
   ]
  },
  {
   "cell_type": "markdown",
   "metadata": {},
   "source": [
    "### Create an Algorand Test account"
   ]
  },
  {
   "cell_type": "code",
   "execution_count": 3,
   "metadata": {},
   "outputs": [
    {
     "name": "stdout",
     "output_type": "stream",
     "text": [
      "Public address: IZ3BY7RKGHX6HL5HJKUICQPZQD4X5K3JADPQFJ5R7UAG4NB2BA2XQJP5ME\n"
     ]
    }
   ],
   "source": [
    "# This function generates an algorand test account, returns a private and public key\n",
    "\n",
    "testPrivateKey, testPublicKey = account.generate_account()\n",
    "\n",
    "print(\"Public address: {}\".format(testPublicKey))"
   ]
  },
  {
   "cell_type": "markdown",
   "metadata": {},
   "source": [
    "### More Test Accounts"
   ]
  },
  {
   "cell_type": "markdown",
   "metadata": {},
   "source": [
    "Connection to Algorand `dev` network comes with preconfigured accounts. We load them here."
   ]
  },
  {
   "cell_type": "code",
   "execution_count": 4,
   "metadata": {},
   "outputs": [],
   "source": [
    "#load_dotenv(encoding='utf-16')\n",
    "load_dotenv()\n",
    "preconPubKey01 = os.getenv('PreconfigPublicKey1')\n",
    "preconPass01 = os.getenv('PreconfigPassphrase1')\n",
    "preconPubKey02 = os.getenv('PreconfigPublicKey2')\n",
    "preconPass02 = os.getenv('PreconfigPassphrase2')\n",
    "preconPubKey03 = os.getenv('PreconfigPublicKey3')\n",
    "preconPass03 = os.getenv('PreconfigPassphrase3')"
   ]
  },
  {
   "cell_type": "code",
   "execution_count": 5,
   "metadata": {},
   "outputs": [
    {
     "name": "stdout",
     "output_type": "stream",
     "text": [
      "Public address: BOBMBO72PB2AM4RBSHB7B3ZZML2AW4SDIUFKJ3YLCPSDKNO3FOCRMN7H2A\n"
     ]
    }
   ],
   "source": [
    "print(\"Public address: {}\".format(preconPubKey01))"
   ]
  },
  {
   "cell_type": "code",
   "execution_count": 6,
   "metadata": {},
   "outputs": [],
   "source": [
    "# We use the passphrase to get the corresponding private key\n",
    "preconPrivKey01 = mnemonic.to_private_key(preconPass01)\n",
    "preconPrivKey02 = mnemonic.to_private_key(preconPass02)\n",
    "preconPrivKey03 = mnemonic.to_private_key(preconPass03)"
   ]
  },
  {
   "cell_type": "markdown",
   "metadata": {},
   "source": [
    "## Connect to Client"
   ]
  },
  {
   "cell_type": "code",
   "execution_count": 7,
   "metadata": {},
   "outputs": [],
   "source": [
    "algod_address = \"http://localhost:4001\" \n",
    "algod_token = \"aaaaaaaaaaaaaaaaaaaaaaaaaaaaaaaaaaaaaaaaaaaaaaaaaaaaaaaaaaaaaaaa\" \n",
    "algod_client = algod.AlgodClient(algod_token, algod_address)"
   ]
  },
  {
   "cell_type": "code",
   "execution_count": 8,
   "metadata": {},
   "outputs": [
    {
     "name": "stdout",
     "output_type": "stream",
     "text": [
      "Public address: IZ3BY7RKGHX6HL5HJKUICQPZQD4X5K3JADPQFJ5R7UAG4NB2BA2XQJP5ME\n",
      "Account balance: 0 microAlgos\n",
      "\n",
      "Public address: BOBMBO72PB2AM4RBSHB7B3ZZML2AW4SDIUFKJ3YLCPSDKNO3FOCRMN7H2A\n",
      "Account balance: 4000000000000000 microAlgos\n",
      "\n"
     ]
    }
   ],
   "source": [
    "# Check the account balance for two of the account we have\n",
    "account_info = algod_client.account_info(testPublicKey)\n",
    "print(\"Public address: {}\".format(testPublicKey))\n",
    "print(\"Account balance: {} microAlgos\".format(account_info.get('amount')) + \"\\n\")\n",
    "\n",
    "account_info = algod_client.account_info(preconPubKey01)\n",
    "print(\"Public address: {}\".format(preconPubKey01))\n",
    "print(\"Account balance: {} microAlgos\".format(account_info.get('amount')) + \"\\n\")"
   ]
  },
  {
   "cell_type": "markdown",
   "metadata": {},
   "source": [
    "## Build the transaction"
   ]
  },
  {
   "cell_type": "code",
   "execution_count": 9,
   "metadata": {},
   "outputs": [],
   "source": [
    "# we are going to send 1 Algo from first preconfigured account to test account\n",
    "\n",
    "sender_PubKey = preconPubKey01\n",
    "sender_PrivKey = preconPrivKey01\n",
    "\n",
    "receiver_PubKey = testPublicKey"
   ]
  },
  {
   "cell_type": "code",
   "execution_count": 10,
   "metadata": {},
   "outputs": [
    {
     "name": "stdout",
     "output_type": "stream",
     "text": [
      "Sender initial balance: 4000000000000000 microAlgos\n",
      "\n",
      "Receiver initial balance: 0 microAlgos\n",
      "\n"
     ]
    }
   ],
   "source": [
    "account_info = algod_client.account_info(sender_PubKey)\n",
    "print(\"Sender initial balance: {} microAlgos\".format(account_info.get('amount')) + \"\\n\")\n",
    "\n",
    "account_info = algod_client.account_info(receiver_PubKey)\n",
    "print(\"Receiver initial balance: {} microAlgos\".format(account_info.get('amount')) + \"\\n\")"
   ]
  },
  {
   "cell_type": "code",
   "execution_count": 11,
   "metadata": {},
   "outputs": [],
   "source": [
    "# Transaction Prameters \n",
    "params = algod_client.suggested_params()\n",
    "params.flat_fee = True\n",
    "params.fee = constants.MIN_TXN_FEE \n",
    "note = \"Hello World\".encode()\n",
    "amount = 1000000\n",
    "\n",
    "# Build Transaction\n",
    "unsigned_txn = transaction.PaymentTxn(sender_PubKey, params, receiver_PubKey, amount, None, note)"
   ]
  },
  {
   "cell_type": "code",
   "execution_count": 12,
   "metadata": {},
   "outputs": [],
   "source": [
    "# sign transaction using private key of the sender\n",
    "\n",
    "signed_txn = unsigned_txn.sign(sender_PrivKey)"
   ]
  },
  {
   "cell_type": "markdown",
   "metadata": {},
   "source": [
    "## Submit and Confirm the Transaction"
   ]
  },
  {
   "cell_type": "markdown",
   "metadata": {},
   "source": [
    "At this moment the transaction has not yet been registered on Algorand (`dev`) network"
   ]
  },
  {
   "cell_type": "code",
   "execution_count": 13,
   "metadata": {},
   "outputs": [
    {
     "name": "stdout",
     "output_type": "stream",
     "text": [
      "Successfully sent transaction with txID: 4VKZ2DY3JKBKMFVD6QE3QF32KA3AU277NVRUTVBYIYYWPDEVTZOA\n"
     ]
    }
   ],
   "source": [
    "#submit transaction\n",
    "\n",
    "txid = algod_client.send_transaction(signed_txn)\n",
    "print(\"Successfully sent transaction with txID: {}\".format(txid))"
   ]
  },
  {
   "cell_type": "code",
   "execution_count": 14,
   "metadata": {},
   "outputs": [
    {
     "name": "stdout",
     "output_type": "stream",
     "text": [
      "Transaction information: {\n",
      "    \"confirmed-round\": 1,\n",
      "    \"pool-error\": \"\",\n",
      "    \"txn\": {\n",
      "        \"sig\": \"C1STzJk96Fh/sHzPYbJa4gdGjUOYBdUC0LHHOHo2bqIfiASNqQIXeNVVxmtYeX4riG4oAM466h0FbzTWgdlXDA==\",\n",
      "        \"txn\": {\n",
      "            \"amt\": 1000000,\n",
      "            \"fee\": 1000,\n",
      "            \"gen\": \"sandnet-v1\",\n",
      "            \"gh\": \"1Av0Ow3cvZTlmk8Nl+rYpdaYl8sFmSD4gie6oNNsKOA=\",\n",
      "            \"lv\": 1000,\n",
      "            \"note\": \"SGVsbG8gV29ybGQ=\",\n",
      "            \"rcv\": \"IZ3BY7RKGHX6HL5HJKUICQPZQD4X5K3JADPQFJ5R7UAG4NB2BA2XQJP5ME\",\n",
      "            \"snd\": \"BOBMBO72PB2AM4RBSHB7B3ZZML2AW4SDIUFKJ3YLCPSDKNO3FOCRMN7H2A\",\n",
      "            \"type\": \"pay\"\n",
      "        }\n",
      "    }\n",
      "}\n",
      "Decoded note: Hello World\n",
      "Starting Account balance: 0 microAlgos\n",
      "Amount transfered: 1000000 microAlgos\n",
      "Fee: 1000 microAlgos\n"
     ]
    }
   ],
   "source": [
    "# wait for confirmation \n",
    "try:\n",
    "    confirmed_txn = transaction.wait_for_confirmation(algod_client, txid, 4)  \n",
    "except Exception as err:\n",
    "    print(err)\n",
    "    #return\n",
    "\n",
    "print(\"Transaction information: {}\".format(json.dumps(confirmed_txn, indent=4)))\n",
    "print(\"Decoded note: {}\".format(base64.b64decode(confirmed_txn[\"txn\"][\"txn\"][\"note\"]).decode()))\n",
    "print(\"Starting Account balance: {} microAlgos\".format(account_info.get('amount')) )\n",
    "print(\"Amount transfered: {} microAlgos\".format(amount) )    \n",
    "print(\"Fee: {} microAlgos\".format(params.fee) ) "
   ]
  },
  {
   "cell_type": "code",
   "execution_count": 15,
   "metadata": {},
   "outputs": [
    {
     "name": "stdout",
     "output_type": "stream",
     "text": [
      "Sender final balance: 3999999998999000 microAlgos\n",
      "\n",
      "Receiver final balance: 1000000 microAlgos\n",
      "\n"
     ]
    }
   ],
   "source": [
    "account_info = algod_client.account_info(sender_PubKey)\n",
    "print(\"Sender final balance: {} microAlgos\".format(account_info.get('amount')) + \"\\n\")\n",
    "\n",
    "account_info = algod_client.account_info(receiver_PubKey)\n",
    "print(\"Receiver final balance: {} microAlgos\".format(account_info.get('amount')) + \"\\n\")"
   ]
  },
  {
   "cell_type": "markdown",
   "metadata": {},
   "source": [
    "transaction has been successfuly registered on Algorand network!"
   ]
  },
  {
   "cell_type": "markdown",
   "metadata": {},
   "source": []
  }
 ],
 "metadata": {
  "kernelspec": {
   "display_name": "Python 3.10.6 ('env': venv)",
   "language": "python",
   "name": "python3"
  },
  "language_info": {
   "codemirror_mode": {
    "name": "ipython",
    "version": 3
   },
   "file_extension": ".py",
   "mimetype": "text/x-python",
   "name": "python",
   "nbconvert_exporter": "python",
   "pygments_lexer": "ipython3",
   "version": "3.10.6"
  },
  "orig_nbformat": 4,
  "vscode": {
   "interpreter": {
    "hash": "6b82b825d5d4833af3b1c89f0eb6563ff3c71e7496afb1979116998712d4e4f0"
   }
  }
 },
 "nbformat": 4,
 "nbformat_minor": 2
}
